{
 "cells": [
  {
   "cell_type": "markdown",
   "metadata": {},
   "source": [
    "# Week 3 - Project: Churn Prediction for StreamWorks Media"
   ]
  },
  {
   "cell_type": "code",
   "execution_count": 4,
   "metadata": {},
   "outputs": [],
   "source": [
    "import pandas as pd\n",
    "import numpy as np \n",
    "import matplotlib.pyplot as plt\n",
    "import seaborn as sns\n",
    "from sklearn.model_selection import train_test_split\n",
    "from sklearn.linear_model import LogisticRegression\n",
    "from sklearn.preprocessing import StandardScaler # Importing the necessary libraries"
   ]
  },
  {
   "cell_type": "markdown",
   "metadata": {},
   "source": [
    "## Loading the data"
   ]
  },
  {
   "cell_type": "code",
   "execution_count": 5,
   "metadata": {},
   "outputs": [
    {
     "data": {
      "text/html": [
       "<div>\n",
       "<style scoped>\n",
       "    .dataframe tbody tr th:only-of-type {\n",
       "        vertical-align: middle;\n",
       "    }\n",
       "\n",
       "    .dataframe tbody tr th {\n",
       "        vertical-align: top;\n",
       "    }\n",
       "\n",
       "    .dataframe thead th {\n",
       "        text-align: right;\n",
       "    }\n",
       "</style>\n",
       "<table border=\"1\" class=\"dataframe\">\n",
       "  <thead>\n",
       "    <tr style=\"text-align: right;\">\n",
       "      <th></th>\n",
       "      <th>user_id</th>\n",
       "      <th>age</th>\n",
       "      <th>gender</th>\n",
       "      <th>signup_date</th>\n",
       "      <th>last_active_date</th>\n",
       "      <th>country</th>\n",
       "      <th>subscription_type</th>\n",
       "      <th>average_watch_hours</th>\n",
       "      <th>mobile_app_usage_pct</th>\n",
       "      <th>complaints_raised</th>\n",
       "      <th>received_promotions</th>\n",
       "      <th>referred_by_friend</th>\n",
       "      <th>is_churned</th>\n",
       "      <th>monthly_fee</th>\n",
       "    </tr>\n",
       "  </thead>\n",
       "  <tbody>\n",
       "    <tr>\n",
       "      <th>0</th>\n",
       "      <td>1001</td>\n",
       "      <td>56.0</td>\n",
       "      <td>Other</td>\n",
       "      <td>02/04/2025</td>\n",
       "      <td>13/07/2025</td>\n",
       "      <td>France</td>\n",
       "      <td>Standard</td>\n",
       "      <td>42.6</td>\n",
       "      <td>77.4</td>\n",
       "      <td>1.0</td>\n",
       "      <td>No</td>\n",
       "      <td>No</td>\n",
       "      <td>1.0</td>\n",
       "      <td>10.99</td>\n",
       "    </tr>\n",
       "    <tr>\n",
       "      <th>1</th>\n",
       "      <td>1002</td>\n",
       "      <td>69.0</td>\n",
       "      <td>Male</td>\n",
       "      <td>02/01/2023</td>\n",
       "      <td>13/07/2025</td>\n",
       "      <td>India</td>\n",
       "      <td>Basic</td>\n",
       "      <td>65.3</td>\n",
       "      <td>98.0</td>\n",
       "      <td>4.0</td>\n",
       "      <td>No</td>\n",
       "      <td>Yes</td>\n",
       "      <td>1.0</td>\n",
       "      <td>5.99</td>\n",
       "    </tr>\n",
       "    <tr>\n",
       "      <th>2</th>\n",
       "      <td>1003</td>\n",
       "      <td>46.0</td>\n",
       "      <td>Male</td>\n",
       "      <td>21/08/2022</td>\n",
       "      <td>13/07/2025</td>\n",
       "      <td>UK</td>\n",
       "      <td>Premium</td>\n",
       "      <td>40.1</td>\n",
       "      <td>47.8</td>\n",
       "      <td>0.0</td>\n",
       "      <td>No</td>\n",
       "      <td>Yes</td>\n",
       "      <td>1.0</td>\n",
       "      <td>13.99</td>\n",
       "    </tr>\n",
       "    <tr>\n",
       "      <th>3</th>\n",
       "      <td>1004</td>\n",
       "      <td>32.0</td>\n",
       "      <td>Other</td>\n",
       "      <td>14/09/2023</td>\n",
       "      <td>13/07/2025</td>\n",
       "      <td>Germany</td>\n",
       "      <td>Premium</td>\n",
       "      <td>5.8</td>\n",
       "      <td>53.2</td>\n",
       "      <td>1.0</td>\n",
       "      <td>Yes</td>\n",
       "      <td>Yes</td>\n",
       "      <td>1.0</td>\n",
       "      <td>13.99</td>\n",
       "    </tr>\n",
       "    <tr>\n",
       "      <th>4</th>\n",
       "      <td>1005</td>\n",
       "      <td>60.0</td>\n",
       "      <td>Female</td>\n",
       "      <td>29/07/2023</td>\n",
       "      <td>13/07/2025</td>\n",
       "      <td>India</td>\n",
       "      <td>Standard</td>\n",
       "      <td>32.7</td>\n",
       "      <td>16.8</td>\n",
       "      <td>5.0</td>\n",
       "      <td>No</td>\n",
       "      <td>Yes</td>\n",
       "      <td>0.0</td>\n",
       "      <td>9.99</td>\n",
       "    </tr>\n",
       "  </tbody>\n",
       "</table>\n",
       "</div>"
      ],
      "text/plain": [
       "   user_id   age  gender signup_date last_active_date  country  \\\n",
       "0     1001  56.0   Other  02/04/2025       13/07/2025   France   \n",
       "1     1002  69.0    Male  02/01/2023       13/07/2025    India   \n",
       "2     1003  46.0    Male  21/08/2022       13/07/2025       UK   \n",
       "3     1004  32.0   Other  14/09/2023       13/07/2025  Germany   \n",
       "4     1005  60.0  Female  29/07/2023       13/07/2025    India   \n",
       "\n",
       "  subscription_type  average_watch_hours  mobile_app_usage_pct  \\\n",
       "0          Standard                 42.6                  77.4   \n",
       "1             Basic                 65.3                  98.0   \n",
       "2           Premium                 40.1                  47.8   \n",
       "3           Premium                  5.8                  53.2   \n",
       "4          Standard                 32.7                  16.8   \n",
       "\n",
       "   complaints_raised received_promotions referred_by_friend  is_churned  \\\n",
       "0                1.0                  No                 No         1.0   \n",
       "1                4.0                  No                Yes         1.0   \n",
       "2                0.0                  No                Yes         1.0   \n",
       "3                1.0                 Yes                Yes         1.0   \n",
       "4                5.0                  No                Yes         0.0   \n",
       "\n",
       "   monthly_fee  \n",
       "0        10.99  \n",
       "1         5.99  \n",
       "2        13.99  \n",
       "3        13.99  \n",
       "4         9.99  "
      ]
     },
     "execution_count": 5,
     "metadata": {},
     "output_type": "execute_result"
    }
   ],
   "source": [
    "data = pd.read_csv(\"/Users/james/General Documents/Internships:Jobs/Uptrail Data Analyst Internship/Week 3/streamworks_user_data.csv\")\n",
    "data.head() # Loading the data "
   ]
  },
  {
   "cell_type": "code",
   "execution_count": 6,
   "metadata": {},
   "outputs": [
    {
     "name": "stdout",
     "output_type": "stream",
     "text": [
      "<class 'pandas.core.frame.DataFrame'>\n",
      "RangeIndex: 1500 entries, 0 to 1499\n",
      "Data columns (total 14 columns):\n",
      " #   Column                Non-Null Count  Dtype  \n",
      "---  ------                --------------  -----  \n",
      " 0   user_id               1500 non-null   int64  \n",
      " 1   age                   1497 non-null   float64\n",
      " 2   gender                1499 non-null   object \n",
      " 3   signup_date           1498 non-null   object \n",
      " 4   last_active_date      1500 non-null   object \n",
      " 5   country               1497 non-null   object \n",
      " 6   subscription_type     1497 non-null   object \n",
      " 7   average_watch_hours   1496 non-null   float64\n",
      " 8   mobile_app_usage_pct  1498 non-null   float64\n",
      " 9   complaints_raised     1497 non-null   float64\n",
      " 10  received_promotions   1497 non-null   object \n",
      " 11  referred_by_friend    1497 non-null   object \n",
      " 12  is_churned            1499 non-null   float64\n",
      " 13  monthly_fee           1355 non-null   float64\n",
      "dtypes: float64(6), int64(1), object(7)\n",
      "memory usage: 164.2+ KB\n"
     ]
    }
   ],
   "source": [
    "data.info() "
   ]
  },
  {
   "cell_type": "code",
   "execution_count": 7,
   "metadata": {},
   "outputs": [
    {
     "data": {
      "text/plain": [
       "user_id                   0\n",
       "age                       3\n",
       "gender                    1\n",
       "signup_date               2\n",
       "last_active_date          0\n",
       "country                   3\n",
       "subscription_type         3\n",
       "average_watch_hours       4\n",
       "mobile_app_usage_pct      2\n",
       "complaints_raised         3\n",
       "received_promotions       3\n",
       "referred_by_friend        3\n",
       "is_churned                1\n",
       "monthly_fee             145\n",
       "dtype: int64"
      ]
     },
     "execution_count": 7,
     "metadata": {},
     "output_type": "execute_result"
    }
   ],
   "source": [
    "data.isnull().sum() # Checking for missing values"
   ]
  },
  {
   "cell_type": "code",
   "execution_count": 8,
   "metadata": {},
   "outputs": [
    {
     "data": {
      "text/html": [
       "<div>\n",
       "<style scoped>\n",
       "    .dataframe tbody tr th:only-of-type {\n",
       "        vertical-align: middle;\n",
       "    }\n",
       "\n",
       "    .dataframe tbody tr th {\n",
       "        vertical-align: top;\n",
       "    }\n",
       "\n",
       "    .dataframe thead th {\n",
       "        text-align: right;\n",
       "    }\n",
       "</style>\n",
       "<table border=\"1\" class=\"dataframe\">\n",
       "  <thead>\n",
       "    <tr style=\"text-align: right;\">\n",
       "      <th></th>\n",
       "      <th>user_id</th>\n",
       "      <th>age</th>\n",
       "      <th>average_watch_hours</th>\n",
       "      <th>mobile_app_usage_pct</th>\n",
       "      <th>complaints_raised</th>\n",
       "      <th>is_churned</th>\n",
       "      <th>monthly_fee</th>\n",
       "    </tr>\n",
       "  </thead>\n",
       "  <tbody>\n",
       "    <tr>\n",
       "      <th>count</th>\n",
       "      <td>1500.000000</td>\n",
       "      <td>1497.000000</td>\n",
       "      <td>1496.000000</td>\n",
       "      <td>1498.000000</td>\n",
       "      <td>1497.000000</td>\n",
       "      <td>1499.000000</td>\n",
       "      <td>1355.000000</td>\n",
       "    </tr>\n",
       "    <tr>\n",
       "      <th>mean</th>\n",
       "      <td>1750.500000</td>\n",
       "      <td>43.738811</td>\n",
       "      <td>39.903342</td>\n",
       "      <td>51.414419</td>\n",
       "      <td>2.498330</td>\n",
       "      <td>0.234156</td>\n",
       "      <td>10.180406</td>\n",
       "    </tr>\n",
       "    <tr>\n",
       "      <th>std</th>\n",
       "      <td>433.157015</td>\n",
       "      <td>15.083920</td>\n",
       "      <td>22.978288</td>\n",
       "      <td>28.580117</td>\n",
       "      <td>1.706829</td>\n",
       "      <td>0.423612</td>\n",
       "      <td>3.310705</td>\n",
       "    </tr>\n",
       "    <tr>\n",
       "      <th>min</th>\n",
       "      <td>1001.000000</td>\n",
       "      <td>18.000000</td>\n",
       "      <td>0.500000</td>\n",
       "      <td>0.000000</td>\n",
       "      <td>0.000000</td>\n",
       "      <td>0.000000</td>\n",
       "      <td>5.990000</td>\n",
       "    </tr>\n",
       "    <tr>\n",
       "      <th>25%</th>\n",
       "      <td>1375.750000</td>\n",
       "      <td>31.000000</td>\n",
       "      <td>19.450000</td>\n",
       "      <td>27.100000</td>\n",
       "      <td>1.000000</td>\n",
       "      <td>0.000000</td>\n",
       "      <td>5.990000</td>\n",
       "    </tr>\n",
       "    <tr>\n",
       "      <th>50%</th>\n",
       "      <td>1750.500000</td>\n",
       "      <td>44.000000</td>\n",
       "      <td>40.300000</td>\n",
       "      <td>52.700000</td>\n",
       "      <td>2.000000</td>\n",
       "      <td>0.000000</td>\n",
       "      <td>9.990000</td>\n",
       "    </tr>\n",
       "    <tr>\n",
       "      <th>75%</th>\n",
       "      <td>2125.250000</td>\n",
       "      <td>56.000000</td>\n",
       "      <td>59.800000</td>\n",
       "      <td>76.200000</td>\n",
       "      <td>4.000000</td>\n",
       "      <td>0.000000</td>\n",
       "      <td>13.990000</td>\n",
       "    </tr>\n",
       "    <tr>\n",
       "      <th>max</th>\n",
       "      <td>2500.000000</td>\n",
       "      <td>69.000000</td>\n",
       "      <td>79.900000</td>\n",
       "      <td>100.000000</td>\n",
       "      <td>5.000000</td>\n",
       "      <td>1.000000</td>\n",
       "      <td>14.990000</td>\n",
       "    </tr>\n",
       "  </tbody>\n",
       "</table>\n",
       "</div>"
      ],
      "text/plain": [
       "           user_id          age  average_watch_hours  mobile_app_usage_pct  \\\n",
       "count  1500.000000  1497.000000          1496.000000           1498.000000   \n",
       "mean   1750.500000    43.738811            39.903342             51.414419   \n",
       "std     433.157015    15.083920            22.978288             28.580117   \n",
       "min    1001.000000    18.000000             0.500000              0.000000   \n",
       "25%    1375.750000    31.000000            19.450000             27.100000   \n",
       "50%    1750.500000    44.000000            40.300000             52.700000   \n",
       "75%    2125.250000    56.000000            59.800000             76.200000   \n",
       "max    2500.000000    69.000000            79.900000            100.000000   \n",
       "\n",
       "       complaints_raised   is_churned  monthly_fee  \n",
       "count        1497.000000  1499.000000  1355.000000  \n",
       "mean            2.498330     0.234156    10.180406  \n",
       "std             1.706829     0.423612     3.310705  \n",
       "min             0.000000     0.000000     5.990000  \n",
       "25%             1.000000     0.000000     5.990000  \n",
       "50%             2.000000     0.000000     9.990000  \n",
       "75%             4.000000     0.000000    13.990000  \n",
       "max             5.000000     1.000000    14.990000  "
      ]
     },
     "execution_count": 8,
     "metadata": {},
     "output_type": "execute_result"
    }
   ],
   "source": [
    "data.describe() # Returning summary statistics"
   ]
  },
  {
   "cell_type": "markdown",
   "metadata": {},
   "source": [
    "Creating the correlation matrix and heatmap for numeric variables:"
   ]
  },
  {
   "cell_type": "code",
   "execution_count": 9,
   "metadata": {},
   "outputs": [
    {
     "data": {
      "text/html": [
       "<div>\n",
       "<style scoped>\n",
       "    .dataframe tbody tr th:only-of-type {\n",
       "        vertical-align: middle;\n",
       "    }\n",
       "\n",
       "    .dataframe tbody tr th {\n",
       "        vertical-align: top;\n",
       "    }\n",
       "\n",
       "    .dataframe thead th {\n",
       "        text-align: right;\n",
       "    }\n",
       "</style>\n",
       "<table border=\"1\" class=\"dataframe\">\n",
       "  <thead>\n",
       "    <tr style=\"text-align: right;\">\n",
       "      <th></th>\n",
       "      <th>user_id</th>\n",
       "      <th>age</th>\n",
       "      <th>average_watch_hours</th>\n",
       "      <th>mobile_app_usage_pct</th>\n",
       "      <th>complaints_raised</th>\n",
       "      <th>is_churned</th>\n",
       "      <th>monthly_fee</th>\n",
       "    </tr>\n",
       "  </thead>\n",
       "  <tbody>\n",
       "    <tr>\n",
       "      <th>user_id</th>\n",
       "      <td>1.000000</td>\n",
       "      <td>-0.010414</td>\n",
       "      <td>-0.017853</td>\n",
       "      <td>-0.021639</td>\n",
       "      <td>-0.065488</td>\n",
       "      <td>-0.000597</td>\n",
       "      <td>-0.052613</td>\n",
       "    </tr>\n",
       "    <tr>\n",
       "      <th>age</th>\n",
       "      <td>-0.010414</td>\n",
       "      <td>1.000000</td>\n",
       "      <td>0.036806</td>\n",
       "      <td>-0.009936</td>\n",
       "      <td>0.027707</td>\n",
       "      <td>0.002173</td>\n",
       "      <td>-0.001641</td>\n",
       "    </tr>\n",
       "    <tr>\n",
       "      <th>average_watch_hours</th>\n",
       "      <td>-0.017853</td>\n",
       "      <td>0.036806</td>\n",
       "      <td>1.000000</td>\n",
       "      <td>-0.004899</td>\n",
       "      <td>-0.013767</td>\n",
       "      <td>-0.004681</td>\n",
       "      <td>-0.021213</td>\n",
       "    </tr>\n",
       "    <tr>\n",
       "      <th>mobile_app_usage_pct</th>\n",
       "      <td>-0.021639</td>\n",
       "      <td>-0.009936</td>\n",
       "      <td>-0.004899</td>\n",
       "      <td>1.000000</td>\n",
       "      <td>-0.028562</td>\n",
       "      <td>0.016353</td>\n",
       "      <td>0.022061</td>\n",
       "    </tr>\n",
       "    <tr>\n",
       "      <th>complaints_raised</th>\n",
       "      <td>-0.065488</td>\n",
       "      <td>0.027707</td>\n",
       "      <td>-0.013767</td>\n",
       "      <td>-0.028562</td>\n",
       "      <td>1.000000</td>\n",
       "      <td>-0.005118</td>\n",
       "      <td>-0.033150</td>\n",
       "    </tr>\n",
       "    <tr>\n",
       "      <th>is_churned</th>\n",
       "      <td>-0.000597</td>\n",
       "      <td>0.002173</td>\n",
       "      <td>-0.004681</td>\n",
       "      <td>0.016353</td>\n",
       "      <td>-0.005118</td>\n",
       "      <td>1.000000</td>\n",
       "      <td>-0.023976</td>\n",
       "    </tr>\n",
       "    <tr>\n",
       "      <th>monthly_fee</th>\n",
       "      <td>-0.052613</td>\n",
       "      <td>-0.001641</td>\n",
       "      <td>-0.021213</td>\n",
       "      <td>0.022061</td>\n",
       "      <td>-0.033150</td>\n",
       "      <td>-0.023976</td>\n",
       "      <td>1.000000</td>\n",
       "    </tr>\n",
       "  </tbody>\n",
       "</table>\n",
       "</div>"
      ],
      "text/plain": [
       "                       user_id       age  average_watch_hours  \\\n",
       "user_id               1.000000 -0.010414            -0.017853   \n",
       "age                  -0.010414  1.000000             0.036806   \n",
       "average_watch_hours  -0.017853  0.036806             1.000000   \n",
       "mobile_app_usage_pct -0.021639 -0.009936            -0.004899   \n",
       "complaints_raised    -0.065488  0.027707            -0.013767   \n",
       "is_churned           -0.000597  0.002173            -0.004681   \n",
       "monthly_fee          -0.052613 -0.001641            -0.021213   \n",
       "\n",
       "                      mobile_app_usage_pct  complaints_raised  is_churned  \\\n",
       "user_id                          -0.021639          -0.065488   -0.000597   \n",
       "age                              -0.009936           0.027707    0.002173   \n",
       "average_watch_hours              -0.004899          -0.013767   -0.004681   \n",
       "mobile_app_usage_pct              1.000000          -0.028562    0.016353   \n",
       "complaints_raised                -0.028562           1.000000   -0.005118   \n",
       "is_churned                        0.016353          -0.005118    1.000000   \n",
       "monthly_fee                       0.022061          -0.033150   -0.023976   \n",
       "\n",
       "                      monthly_fee  \n",
       "user_id                 -0.052613  \n",
       "age                     -0.001641  \n",
       "average_watch_hours     -0.021213  \n",
       "mobile_app_usage_pct     0.022061  \n",
       "complaints_raised       -0.033150  \n",
       "is_churned              -0.023976  \n",
       "monthly_fee              1.000000  "
      ]
     },
     "execution_count": 9,
     "metadata": {},
     "output_type": "execute_result"
    }
   ],
   "source": [
    "num_var = data[['user_id', 'age', 'average_watch_hours', 'mobile_app_usage_pct', 'complaints_raised', 'is_churned', 'monthly_fee']] # The numeric variables in a new dataframe\n",
    "num_var.corr() # The correlation matrix "
   ]
  },
  {
   "cell_type": "code",
   "execution_count": 10,
   "metadata": {},
   "outputs": [
    {
     "data": {
      "text/plain": [
       "<Axes: >"
      ]
     },
     "execution_count": 10,
     "metadata": {},
     "output_type": "execute_result"
    },
    {
     "data": {
      "image/png": "[encoded data removed]",
      "text/plain": [
       "<Figure size 640x480 with 2 Axes>"
      ]
     },
     "metadata": {},
     "output_type": "display_data"
    }
   ],
   "source": [
    "sns.heatmap(num_var.corr()) # The heatmap "
   ]
  },
  {
   "cell_type": "markdown",
   "metadata": {},
   "source": [
    "## Cleaning and preparing the data"
   ]
  },
  {
   "cell_type": "code",
   "execution_count": 11,
   "metadata": {},
   "outputs": [
    {
     "name": "stderr",
     "output_type": "stream",
     "text": [
      "/var/folders/58/r1fkngv55hqf7gjlfjjf03v40000gn/T/ipykernel_12026/1680324717.py:1: UserWarning: Parsing dates in DD/MM/YYYY format when dayfirst=False (the default) was specified. This may lead to inconsistently parsed dates! Specify a format to ensure consistent parsing.\n",
      "  data['signup_date'] = pd.to_datetime(data['signup_date'], errors='coerce')\n",
      "/var/folders/58/r1fkngv55hqf7gjlfjjf03v40000gn/T/ipykernel_12026/1680324717.py:2: UserWarning: Parsing dates in DD/MM/YYYY format when dayfirst=False (the default) was specified. This may lead to inconsistently parsed dates! Specify a format to ensure consistent parsing.\n",
      "  data['last_active_date'] = pd.to_datetime(data['last_active_date'], errors='coerce') # Converting signup_date, last_active_date to datetime\n"
     ]
    }
   ],
   "source": [
    "data['signup_date'] = pd.to_datetime(data['signup_date'], errors='coerce')\n",
    "data['last_active_date'] = pd.to_datetime(data['last_active_date'], errors='coerce') # Converting signup_date, last_active_date to datetime"
   ]
  },
  {
   "cell_type": "markdown",
   "metadata": {},
   "source": [
    "Adding new features:"
   ]
  },
  {
   "cell_type": "code",
   "execution_count": 12,
   "metadata": {},
   "outputs": [],
   "source": [
    "data['tenure_days'] = (data['last_active_date'] - data['signup_date']).dt.days \n",
    "data['is_loyal'] = data['tenure_days'] > 180"
   ]
  },
  {
   "cell_type": "markdown",
   "metadata": {},
   "source": [
    "Label encoding received_promotions and referred_by_friend:"
   ]
  },
  {
   "cell_type": "code",
   "execution_count": 13,
   "metadata": {},
   "outputs": [
    {
     "data": {
      "text/html": [
       "<div>\n",
       "<style scoped>\n",
       "    .dataframe tbody tr th:only-of-type {\n",
       "        vertical-align: middle;\n",
       "    }\n",
       "\n",
       "    .dataframe tbody tr th {\n",
       "        vertical-align: top;\n",
       "    }\n",
       "\n",
       "    .dataframe thead th {\n",
       "        text-align: right;\n",
       "    }\n",
       "</style>\n",
       "<table border=\"1\" class=\"dataframe\">\n",
       "  <thead>\n",
       "    <tr style=\"text-align: right;\">\n",
       "      <th></th>\n",
       "      <th>user_id</th>\n",
       "      <th>age</th>\n",
       "      <th>gender</th>\n",
       "      <th>signup_date</th>\n",
       "      <th>last_active_date</th>\n",
       "      <th>country</th>\n",
       "      <th>subscription_type</th>\n",
       "      <th>average_watch_hours</th>\n",
       "      <th>mobile_app_usage_pct</th>\n",
       "      <th>complaints_raised</th>\n",
       "      <th>received_promotions</th>\n",
       "      <th>referred_by_friend</th>\n",
       "      <th>is_churned</th>\n",
       "      <th>monthly_fee</th>\n",
       "      <th>tenure_days</th>\n",
       "      <th>is_loyal</th>\n",
       "    </tr>\n",
       "  </thead>\n",
       "  <tbody>\n",
       "    <tr>\n",
       "      <th>0</th>\n",
       "      <td>1001</td>\n",
       "      <td>56.0</td>\n",
       "      <td>Other</td>\n",
       "      <td>2025-02-04</td>\n",
       "      <td>2025-07-13</td>\n",
       "      <td>France</td>\n",
       "      <td>Standard</td>\n",
       "      <td>42.6</td>\n",
       "      <td>77.4</td>\n",
       "      <td>1.0</td>\n",
       "      <td>0</td>\n",
       "      <td>0</td>\n",
       "      <td>1.0</td>\n",
       "      <td>10.99</td>\n",
       "      <td>159.0</td>\n",
       "      <td>False</td>\n",
       "    </tr>\n",
       "    <tr>\n",
       "      <th>1</th>\n",
       "      <td>1002</td>\n",
       "      <td>69.0</td>\n",
       "      <td>Male</td>\n",
       "      <td>2023-02-01</td>\n",
       "      <td>2025-07-13</td>\n",
       "      <td>India</td>\n",
       "      <td>Basic</td>\n",
       "      <td>65.3</td>\n",
       "      <td>98.0</td>\n",
       "      <td>4.0</td>\n",
       "      <td>0</td>\n",
       "      <td>1</td>\n",
       "      <td>1.0</td>\n",
       "      <td>5.99</td>\n",
       "      <td>893.0</td>\n",
       "      <td>True</td>\n",
       "    </tr>\n",
       "    <tr>\n",
       "      <th>2</th>\n",
       "      <td>1003</td>\n",
       "      <td>46.0</td>\n",
       "      <td>Male</td>\n",
       "      <td>2022-08-21</td>\n",
       "      <td>2025-07-13</td>\n",
       "      <td>UK</td>\n",
       "      <td>Premium</td>\n",
       "      <td>40.1</td>\n",
       "      <td>47.8</td>\n",
       "      <td>0.0</td>\n",
       "      <td>0</td>\n",
       "      <td>1</td>\n",
       "      <td>1.0</td>\n",
       "      <td>13.99</td>\n",
       "      <td>1057.0</td>\n",
       "      <td>True</td>\n",
       "    </tr>\n",
       "    <tr>\n",
       "      <th>3</th>\n",
       "      <td>1004</td>\n",
       "      <td>32.0</td>\n",
       "      <td>Other</td>\n",
       "      <td>2023-09-14</td>\n",
       "      <td>2025-07-13</td>\n",
       "      <td>Germany</td>\n",
       "      <td>Premium</td>\n",
       "      <td>5.8</td>\n",
       "      <td>53.2</td>\n",
       "      <td>1.0</td>\n",
       "      <td>1</td>\n",
       "      <td>1</td>\n",
       "      <td>1.0</td>\n",
       "      <td>13.99</td>\n",
       "      <td>668.0</td>\n",
       "      <td>True</td>\n",
       "    </tr>\n",
       "    <tr>\n",
       "      <th>4</th>\n",
       "      <td>1005</td>\n",
       "      <td>60.0</td>\n",
       "      <td>Female</td>\n",
       "      <td>2023-07-29</td>\n",
       "      <td>2025-07-13</td>\n",
       "      <td>India</td>\n",
       "      <td>Standard</td>\n",
       "      <td>32.7</td>\n",
       "      <td>16.8</td>\n",
       "      <td>5.0</td>\n",
       "      <td>0</td>\n",
       "      <td>1</td>\n",
       "      <td>0.0</td>\n",
       "      <td>9.99</td>\n",
       "      <td>715.0</td>\n",
       "      <td>True</td>\n",
       "    </tr>\n",
       "    <tr>\n",
       "      <th>5</th>\n",
       "      <td>1006</td>\n",
       "      <td>25.0</td>\n",
       "      <td>Male</td>\n",
       "      <td>2023-06-25</td>\n",
       "      <td>2025-07-13</td>\n",
       "      <td>USA</td>\n",
       "      <td>Premium</td>\n",
       "      <td>40.0</td>\n",
       "      <td>24.7</td>\n",
       "      <td>1.0</td>\n",
       "      <td>0</td>\n",
       "      <td>1</td>\n",
       "      <td>0.0</td>\n",
       "      <td>13.99</td>\n",
       "      <td>749.0</td>\n",
       "      <td>True</td>\n",
       "    </tr>\n",
       "    <tr>\n",
       "      <th>6</th>\n",
       "      <td>1007</td>\n",
       "      <td>38.0</td>\n",
       "      <td>Male</td>\n",
       "      <td>2023-02-15</td>\n",
       "      <td>2025-07-13</td>\n",
       "      <td>UK</td>\n",
       "      <td>Premium</td>\n",
       "      <td>57.8</td>\n",
       "      <td>83.9</td>\n",
       "      <td>0.0</td>\n",
       "      <td>0</td>\n",
       "      <td>1</td>\n",
       "      <td>0.0</td>\n",
       "      <td>14.99</td>\n",
       "      <td>879.0</td>\n",
       "      <td>True</td>\n",
       "    </tr>\n",
       "    <tr>\n",
       "      <th>7</th>\n",
       "      <td>1008</td>\n",
       "      <td>56.0</td>\n",
       "      <td>Male</td>\n",
       "      <td>2022-12-20</td>\n",
       "      <td>2025-07-13</td>\n",
       "      <td>Germany</td>\n",
       "      <td>Premium</td>\n",
       "      <td>9.0</td>\n",
       "      <td>35.6</td>\n",
       "      <td>5.0</td>\n",
       "      <td>0</td>\n",
       "      <td>1</td>\n",
       "      <td>0.0</td>\n",
       "      <td>14.99</td>\n",
       "      <td>936.0</td>\n",
       "      <td>True</td>\n",
       "    </tr>\n",
       "    <tr>\n",
       "      <th>8</th>\n",
       "      <td>1009</td>\n",
       "      <td>36.0</td>\n",
       "      <td>Other</td>\n",
       "      <td>2025-05-30</td>\n",
       "      <td>2025-07-13</td>\n",
       "      <td>UK</td>\n",
       "      <td>Standard</td>\n",
       "      <td>11.6</td>\n",
       "      <td>82.7</td>\n",
       "      <td>1.0</td>\n",
       "      <td>0</td>\n",
       "      <td>1</td>\n",
       "      <td>0.0</td>\n",
       "      <td>NaN</td>\n",
       "      <td>44.0</td>\n",
       "      <td>False</td>\n",
       "    </tr>\n",
       "    <tr>\n",
       "      <th>9</th>\n",
       "      <td>1010</td>\n",
       "      <td>40.0</td>\n",
       "      <td>Male</td>\n",
       "      <td>2024-07-11</td>\n",
       "      <td>2025-07-13</td>\n",
       "      <td>France</td>\n",
       "      <td>Basic</td>\n",
       "      <td>21.5</td>\n",
       "      <td>70.9</td>\n",
       "      <td>5.0</td>\n",
       "      <td>1</td>\n",
       "      <td>1</td>\n",
       "      <td>0.0</td>\n",
       "      <td>6.99</td>\n",
       "      <td>367.0</td>\n",
       "      <td>True</td>\n",
       "    </tr>\n",
       "    <tr>\n",
       "      <th>10</th>\n",
       "      <td>1011</td>\n",
       "      <td>28.0</td>\n",
       "      <td>Other</td>\n",
       "      <td>2022-11-26</td>\n",
       "      <td>2025-07-13</td>\n",
       "      <td>USA</td>\n",
       "      <td>Standard</td>\n",
       "      <td>21.7</td>\n",
       "      <td>17.7</td>\n",
       "      <td>0.0</td>\n",
       "      <td>0</td>\n",
       "      <td>0</td>\n",
       "      <td>0.0</td>\n",
       "      <td>NaN</td>\n",
       "      <td>960.0</td>\n",
       "      <td>True</td>\n",
       "    </tr>\n",
       "    <tr>\n",
       "      <th>11</th>\n",
       "      <td>1012</td>\n",
       "      <td>28.0</td>\n",
       "      <td>Other</td>\n",
       "      <td>2025-01-16</td>\n",
       "      <td>2025-07-13</td>\n",
       "      <td>France</td>\n",
       "      <td>Basic</td>\n",
       "      <td>58.7</td>\n",
       "      <td>50.7</td>\n",
       "      <td>0.0</td>\n",
       "      <td>1</td>\n",
       "      <td>1</td>\n",
       "      <td>0.0</td>\n",
       "      <td>5.99</td>\n",
       "      <td>178.0</td>\n",
       "      <td>False</td>\n",
       "    </tr>\n",
       "    <tr>\n",
       "      <th>12</th>\n",
       "      <td>1013</td>\n",
       "      <td>41.0</td>\n",
       "      <td>Other</td>\n",
       "      <td>2024-04-29</td>\n",
       "      <td>2025-07-13</td>\n",
       "      <td>France</td>\n",
       "      <td>Premium</td>\n",
       "      <td>20.4</td>\n",
       "      <td>67.7</td>\n",
       "      <td>5.0</td>\n",
       "      <td>1</td>\n",
       "      <td>1</td>\n",
       "      <td>0.0</td>\n",
       "      <td>14.99</td>\n",
       "      <td>440.0</td>\n",
       "      <td>True</td>\n",
       "    </tr>\n",
       "    <tr>\n",
       "      <th>13</th>\n",
       "      <td>1014</td>\n",
       "      <td>53.0</td>\n",
       "      <td>Male</td>\n",
       "      <td>2022-01-09</td>\n",
       "      <td>2025-07-13</td>\n",
       "      <td>Canada</td>\n",
       "      <td>Premium</td>\n",
       "      <td>50.8</td>\n",
       "      <td>23.5</td>\n",
       "      <td>2.0</td>\n",
       "      <td>0</td>\n",
       "      <td>1</td>\n",
       "      <td>0.0</td>\n",
       "      <td>13.99</td>\n",
       "      <td>1281.0</td>\n",
       "      <td>True</td>\n",
       "    </tr>\n",
       "    <tr>\n",
       "      <th>14</th>\n",
       "      <td>1015</td>\n",
       "      <td>57.0</td>\n",
       "      <td>Other</td>\n",
       "      <td>2022-08-29</td>\n",
       "      <td>2025-07-13</td>\n",
       "      <td>UK</td>\n",
       "      <td>Basic</td>\n",
       "      <td>39.8</td>\n",
       "      <td>83.1</td>\n",
       "      <td>3.0</td>\n",
       "      <td>1</td>\n",
       "      <td>0</td>\n",
       "      <td>0.0</td>\n",
       "      <td>5.99</td>\n",
       "      <td>1049.0</td>\n",
       "      <td>True</td>\n",
       "    </tr>\n",
       "    <tr>\n",
       "      <th>15</th>\n",
       "      <td>1016</td>\n",
       "      <td>41.0</td>\n",
       "      <td>Female</td>\n",
       "      <td>2022-06-12</td>\n",
       "      <td>2025-07-13</td>\n",
       "      <td>UK</td>\n",
       "      <td>Standard</td>\n",
       "      <td>46.1</td>\n",
       "      <td>54.5</td>\n",
       "      <td>1.0</td>\n",
       "      <td>1</td>\n",
       "      <td>0</td>\n",
       "      <td>0.0</td>\n",
       "      <td>NaN</td>\n",
       "      <td>1127.0</td>\n",
       "      <td>True</td>\n",
       "    </tr>\n",
       "    <tr>\n",
       "      <th>16</th>\n",
       "      <td>1017</td>\n",
       "      <td>20.0</td>\n",
       "      <td>Male</td>\n",
       "      <td>2023-06-18</td>\n",
       "      <td>2025-07-13</td>\n",
       "      <td>India</td>\n",
       "      <td>Standard</td>\n",
       "      <td>67.1</td>\n",
       "      <td>16.5</td>\n",
       "      <td>1.0</td>\n",
       "      <td>0</td>\n",
       "      <td>0</td>\n",
       "      <td>0.0</td>\n",
       "      <td>10.99</td>\n",
       "      <td>756.0</td>\n",
       "      <td>True</td>\n",
       "    </tr>\n",
       "    <tr>\n",
       "      <th>17</th>\n",
       "      <td>1018</td>\n",
       "      <td>39.0</td>\n",
       "      <td>Male</td>\n",
       "      <td>2023-10-07</td>\n",
       "      <td>2025-07-13</td>\n",
       "      <td>USA</td>\n",
       "      <td>Standard</td>\n",
       "      <td>32.6</td>\n",
       "      <td>58.3</td>\n",
       "      <td>2.0</td>\n",
       "      <td>1</td>\n",
       "      <td>1</td>\n",
       "      <td>0.0</td>\n",
       "      <td>9.99</td>\n",
       "      <td>645.0</td>\n",
       "      <td>True</td>\n",
       "    </tr>\n",
       "    <tr>\n",
       "      <th>18</th>\n",
       "      <td>1019</td>\n",
       "      <td>19.0</td>\n",
       "      <td>Male</td>\n",
       "      <td>2024-06-09</td>\n",
       "      <td>2025-07-13</td>\n",
       "      <td>USA</td>\n",
       "      <td>Basic</td>\n",
       "      <td>61.8</td>\n",
       "      <td>100.0</td>\n",
       "      <td>2.0</td>\n",
       "      <td>0</td>\n",
       "      <td>0</td>\n",
       "      <td>0.0</td>\n",
       "      <td>5.99</td>\n",
       "      <td>399.0</td>\n",
       "      <td>True</td>\n",
       "    </tr>\n",
       "    <tr>\n",
       "      <th>19</th>\n",
       "      <td>1020</td>\n",
       "      <td>41.0</td>\n",
       "      <td>Male</td>\n",
       "      <td>2025-03-02</td>\n",
       "      <td>2025-07-13</td>\n",
       "      <td>Canada</td>\n",
       "      <td>Premium</td>\n",
       "      <td>34.1</td>\n",
       "      <td>15.1</td>\n",
       "      <td>2.0</td>\n",
       "      <td>0</td>\n",
       "      <td>1</td>\n",
       "      <td>0.0</td>\n",
       "      <td>13.99</td>\n",
       "      <td>133.0</td>\n",
       "      <td>False</td>\n",
       "    </tr>\n",
       "  </tbody>\n",
       "</table>\n",
       "</div>"
      ],
      "text/plain": [
       "    user_id   age  gender signup_date last_active_date  country  \\\n",
       "0      1001  56.0   Other  2025-02-04       2025-07-13   France   \n",
       "1      1002  69.0    Male  2023-02-01       2025-07-13    India   \n",
       "2      1003  46.0    Male  2022-08-21       2025-07-13       UK   \n",
       "3      1004  32.0   Other  2023-09-14       2025-07-13  Germany   \n",
       "4      1005  60.0  Female  2023-07-29       2025-07-13    India   \n",
       "5      1006  25.0    Male  2023-06-25       2025-07-13      USA   \n",
       "6      1007  38.0    Male  2023-02-15       2025-07-13       UK   \n",
       "7      1008  56.0    Male  2022-12-20       2025-07-13  Germany   \n",
       "8      1009  36.0   Other  2025-05-30       2025-07-13       UK   \n",
       "9      1010  40.0    Male  2024-07-11       2025-07-13   France   \n",
       "10     1011  28.0   Other  2022-11-26       2025-07-13      USA   \n",
       "11     1012  28.0   Other  2025-01-16       2025-07-13   France   \n",
       "12     1013  41.0   Other  2024-04-29       2025-07-13   France   \n",
       "13     1014  53.0    Male  2022-01-09       2025-07-13   Canada   \n",
       "14     1015  57.0   Other  2022-08-29       2025-07-13       UK   \n",
       "15     1016  41.0  Female  2022-06-12       2025-07-13       UK   \n",
       "16     1017  20.0    Male  2023-06-18       2025-07-13    India   \n",
       "17     1018  39.0    Male  2023-10-07       2025-07-13      USA   \n",
       "18     1019  19.0    Male  2024-06-09       2025-07-13      USA   \n",
       "19     1020  41.0    Male  2025-03-02       2025-07-13   Canada   \n",
       "\n",
       "   subscription_type  average_watch_hours  mobile_app_usage_pct  \\\n",
       "0           Standard                 42.6                  77.4   \n",
       "1              Basic                 65.3                  98.0   \n",
       "2            Premium                 40.1                  47.8   \n",
       "3            Premium                  5.8                  53.2   \n",
       "4           Standard                 32.7                  16.8   \n",
       "5            Premium                 40.0                  24.7   \n",
       "6            Premium                 57.8                  83.9   \n",
       "7            Premium                  9.0                  35.6   \n",
       "8           Standard                 11.6                  82.7   \n",
       "9              Basic                 21.5                  70.9   \n",
       "10          Standard                 21.7                  17.7   \n",
       "11             Basic                 58.7                  50.7   \n",
       "12           Premium                 20.4                  67.7   \n",
       "13           Premium                 50.8                  23.5   \n",
       "14             Basic                 39.8                  83.1   \n",
       "15          Standard                 46.1                  54.5   \n",
       "16          Standard                 67.1                  16.5   \n",
       "17          Standard                 32.6                  58.3   \n",
       "18             Basic                 61.8                 100.0   \n",
       "19           Premium                 34.1                  15.1   \n",
       "\n",
       "    complaints_raised  received_promotions  referred_by_friend  is_churned  \\\n",
       "0                 1.0                    0                   0         1.0   \n",
       "1                 4.0                    0                   1         1.0   \n",
       "2                 0.0                    0                   1         1.0   \n",
       "3                 1.0                    1                   1         1.0   \n",
       "4                 5.0                    0                   1         0.0   \n",
       "5                 1.0                    0                   1         0.0   \n",
       "6                 0.0                    0                   1         0.0   \n",
       "7                 5.0                    0                   1         0.0   \n",
       "8                 1.0                    0                   1         0.0   \n",
       "9                 5.0                    1                   1         0.0   \n",
       "10                0.0                    0                   0         0.0   \n",
       "11                0.0                    1                   1         0.0   \n",
       "12                5.0                    1                   1         0.0   \n",
       "13                2.0                    0                   1         0.0   \n",
       "14                3.0                    1                   0         0.0   \n",
       "15                1.0                    1                   0         0.0   \n",
       "16                1.0                    0                   0         0.0   \n",
       "17                2.0                    1                   1         0.0   \n",
       "18                2.0                    0                   0         0.0   \n",
       "19                2.0                    0                   1         0.0   \n",
       "\n",
       "    monthly_fee  tenure_days  is_loyal  \n",
       "0         10.99        159.0     False  \n",
       "1          5.99        893.0      True  \n",
       "2         13.99       1057.0      True  \n",
       "3         13.99        668.0      True  \n",
       "4          9.99        715.0      True  \n",
       "5         13.99        749.0      True  \n",
       "6         14.99        879.0      True  \n",
       "7         14.99        936.0      True  \n",
       "8           NaN         44.0     False  \n",
       "9          6.99        367.0      True  \n",
       "10          NaN        960.0      True  \n",
       "11         5.99        178.0     False  \n",
       "12        14.99        440.0      True  \n",
       "13        13.99       1281.0      True  \n",
       "14         5.99       1049.0      True  \n",
       "15          NaN       1127.0      True  \n",
       "16        10.99        756.0      True  \n",
       "17         9.99        645.0      True  \n",
       "18         5.99        399.0      True  \n",
       "19        13.99        133.0     False  "
      ]
     },
     "execution_count": 13,
     "metadata": {},
     "output_type": "execute_result"
    }
   ],
   "source": [
    "from sklearn.preprocessing import LabelEncoder\n",
    "le = LabelEncoder()\n",
    "data['received_promotions'] = le.fit_transform(data['received_promotions'])\n",
    "data['referred_by_friend'] = le.fit_transform(data['referred_by_friend'])\n",
    "data.head(20)"
   ]
  },
  {
   "cell_type": "markdown",
   "metadata": {},
   "source": [
    "Handling missing values appropriately"
   ]
  },
  {
   "cell_type": "code",
   "execution_count": 14,
   "metadata": {},
   "outputs": [],
   "source": [
    "data['age'].fillna(\"Unknown Age\", inplace=True) \n",
    "data['gender'].fillna(\"Unknown Gender\", inplace=True)\n",
    "data['signup_date'].fillna(\"Unknown Date\", inplace=True)\n",
    "data['country'].fillna(\"Unknown Country\", inplace=True)\n",
    "data['subscription_type'].fillna(\"Unknown\", inplace=True)\n",
    "data['average_watch_hours'].fillna(\"Unknown\", inplace=True)\n",
    "data['mobile_app_usage_pct'].fillna(\"Unknown\", inplace=True)\n",
    "data['complaints_raised'].fillna(\"Unknown\", inplace=True)\n",
    "data['received_promotions'].fillna(\"Unknown\", inplace=True)\n",
    "data['referred_by_friend'].fillna(\"Unknown\", inplace=True)\n",
    "data['monthly_fee'].fillna(\"Unknown\", inplace=True) # Handling missing values appropriately "
   ]
  },
  {
   "cell_type": "code",
   "execution_count": 15,
   "metadata": {},
   "outputs": [
    {
     "data": {
      "text/plain": [
       "user_id                 0\n",
       "age                     0\n",
       "gender                  0\n",
       "signup_date             0\n",
       "last_active_date        0\n",
       "country                 0\n",
       "subscription_type       0\n",
       "average_watch_hours     0\n",
       "mobile_app_usage_pct    0\n",
       "complaints_raised       0\n",
       "received_promotions     0\n",
       "referred_by_friend      0\n",
       "is_churned              1\n",
       "monthly_fee             0\n",
       "tenure_days             2\n",
       "is_loyal                0\n",
       "dtype: int64"
      ]
     },
     "execution_count": 15,
     "metadata": {},
     "output_type": "execute_result"
    }
   ],
   "source": [
    "data.isnull().sum() # Checking if all missing values are filled"
   ]
  },
  {
   "cell_type": "code",
   "execution_count": 16,
   "metadata": {},
   "outputs": [],
   "source": [
    "data['tenure_days'].fillna(\"Unknown\", inplace= True)"
   ]
  },
  {
   "cell_type": "markdown",
   "metadata": {},
   "source": [
    "## Statistical Analysis and Insights"
   ]
  },
  {
   "cell_type": "markdown",
   "metadata": {},
   "source": [
    "Chi-squared test on churn:"
   ]
  },
  {
   "cell_type": "code",
   "execution_count": 17,
   "metadata": {},
   "outputs": [],
   "source": [
    "from scipy.stats import chi2_contingency"
   ]
  },
  {
   "cell_type": "code",
   "execution_count": 18,
   "metadata": {},
   "outputs": [
    {
     "name": "stdout",
     "output_type": "stream",
     "text": [
      "Chi-squared Statistic = 7.433261106704834\n",
      "Degrees of Freedom = 3\n",
      "p-value = 0.059298284977021457\n",
      "No statistically significant relationship.\n"
     ]
    }
   ],
   "source": [
    "table1 = pd.crosstab(data['gender'], data['is_churned']) # Seeing if churn is related to gender\n",
    "chi2, p, dof, expected = chi2_contingency(table1) # Chi squared test\n",
    "print(f\"Chi-squared Statistic = {chi2}\")\n",
    "print(f\"Degrees of Freedom = {dof}\")\n",
    "print(f\"p-value = {p}\")\n",
    "if p < 0.05:\n",
    "    print(\"There is a statistically significant relationship.\")\n",
    "else:\n",
    "    print(\"No statistically significant relationship.\")"
   ]
  },
  {
   "cell_type": "code",
   "execution_count": 19,
   "metadata": {},
   "outputs": [
    {
     "name": "stdout",
     "output_type": "stream",
     "text": [
      "Chi-squared Statistic = 12.166283858704752\n",
      "Degrees of Freedom = 2\n",
      "p-value = 0.0022809986458334525\n",
      "There is a statistically significant relationship.\n"
     ]
    }
   ],
   "source": [
    "table1 = pd.crosstab(data['received_promotions'], data['is_churned']) # Seeing if churn is related to received_promotions\n",
    "chi2, p, dof, expected = chi2_contingency(table1)\n",
    "print(f\"Chi-squared Statistic = {chi2}\")\n",
    "print(f\"Degrees of Freedom = {dof}\")\n",
    "print(f\"p-value = {p}\")\n",
    "if p < 0.05:\n",
    "    print(\"There is a statistically significant relationship.\")\n",
    "else:\n",
    "    print(\"No statistically significant relationship.\")"
   ]
  },
  {
   "cell_type": "code",
   "execution_count": 20,
   "metadata": {},
   "outputs": [
    {
     "name": "stdout",
     "output_type": "stream",
     "text": [
      "Chi-squared Statistic = 1.4108617059076312\n",
      "Degrees of Freedom = 2\n",
      "p-value = 0.49389573197257386\n",
      "No statistically significant relationship.\n"
     ]
    }
   ],
   "source": [
    "table1 = pd.crosstab(data['referred_by_friend'], data['is_churned']) # Seeing if churn is related to referred_by_friend\n",
    "chi2, p, dof, expected = chi2_contingency(table1)\n",
    "print(f\"Chi-squared Statistic = {chi2}\")\n",
    "print(f\"Degrees of Freedom = {dof}\")\n",
    "print(f\"p-value = {p}\")\n",
    "if p < 0.05:\n",
    "    print(\"There is a statistically significant relationship.\")\n",
    "else:\n",
    "    print(\"No statistically significant relationship.\")"
   ]
  },
  {
   "cell_type": "code",
   "execution_count": 21,
   "metadata": {},
   "outputs": [
    {
     "data": {
      "text/html": [
       "<div>\n",
       "<style scoped>\n",
       "    .dataframe tbody tr th:only-of-type {\n",
       "        vertical-align: middle;\n",
       "    }\n",
       "\n",
       "    .dataframe tbody tr th {\n",
       "        vertical-align: top;\n",
       "    }\n",
       "\n",
       "    .dataframe thead th {\n",
       "        text-align: right;\n",
       "    }\n",
       "</style>\n",
       "<table border=\"1\" class=\"dataframe\">\n",
       "  <thead>\n",
       "    <tr style=\"text-align: right;\">\n",
       "      <th>is_churned</th>\n",
       "      <th>0.0</th>\n",
       "      <th>1.0</th>\n",
       "    </tr>\n",
       "    <tr>\n",
       "      <th>received_promotions</th>\n",
       "      <th></th>\n",
       "      <th></th>\n",
       "    </tr>\n",
       "  </thead>\n",
       "  <tbody>\n",
       "    <tr>\n",
       "      <th>0</th>\n",
       "      <td>573</td>\n",
       "      <td>190</td>\n",
       "    </tr>\n",
       "    <tr>\n",
       "      <th>1</th>\n",
       "      <td>575</td>\n",
       "      <td>158</td>\n",
       "    </tr>\n",
       "    <tr>\n",
       "      <th>2</th>\n",
       "      <td>0</td>\n",
       "      <td>3</td>\n",
       "    </tr>\n",
       "  </tbody>\n",
       "</table>\n",
       "</div>"
      ],
      "text/plain": [
       "is_churned           0.0  1.0\n",
       "received_promotions          \n",
       "0                    573  190\n",
       "1                    575  158\n",
       "2                      0    3"
      ]
     },
     "execution_count": 21,
     "metadata": {},
     "output_type": "execute_result"
    }
   ],
   "source": [
    "pd.crosstab(data['received_promotions'], data['is_churned'])"
   ]
  },
  {
   "cell_type": "markdown",
   "metadata": {},
   "source": [
    "From the above table, the churn rate for those who didn't receive promotions is slightly higher than those that did. "
   ]
  },
  {
   "cell_type": "markdown",
   "metadata": {},
   "source": [
    "Performing a t-test to check if watch time differs significantly between churned and retained users:"
   ]
  },
  {
   "cell_type": "code",
   "execution_count": 22,
   "metadata": {},
   "outputs": [],
   "source": [
    "from scipy.stats import ttest_ind"
   ]
  },
  {
   "cell_type": "code",
   "execution_count": 23,
   "metadata": {},
   "outputs": [],
   "source": [
    "data['average_watch_hours'] = pd.to_numeric(data['average_watch_hours'], errors='coerce')\n",
    "data_clean = data.dropna(subset=['average_watch_hours']) # Dropping null values in average watch hours column which will affect the test"
   ]
  },
  {
   "cell_type": "code",
   "execution_count": 24,
   "metadata": {},
   "outputs": [],
   "source": [
    "churned = data_clean[data_clean['is_churned'] == 1]['average_watch_hours']\n",
    "retained = data_clean[data_clean['is_churned'] == 0]['average_watch_hours']"
   ]
  },
  {
   "cell_type": "code",
   "execution_count": 25,
   "metadata": {},
   "outputs": [
    {
     "name": "stdout",
     "output_type": "stream",
     "text": [
      "T-statistic: -0.17950606293214347\n",
      "P-value: 0.8576039445893948\n",
      "No significant difference in average watch time between the groups.\n"
     ]
    }
   ],
   "source": [
    "t_stat, p_value = ttest_ind(churned, retained, equal_var=False) # Performing the t-test \n",
    "\n",
    "print(f\"T-statistic: {t_stat}\")\n",
    "print(f\"P-value: {p_value}\")\n",
    "\n",
    "# Interpretation\n",
    "if p_value < 0.05:\n",
    "    print(\"Significant difference in average watch time between churned and retained users.\")\n",
    "else:\n",
    "    print(\"No significant difference in average watch time between the groups.\")"
   ]
  },
  {
   "cell_type": "markdown",
   "metadata": {},
   "source": [
    "Visuals in key differences between churned and retained users:"
   ]
  },
  {
   "cell_type": "code",
   "execution_count": 26,
   "metadata": {},
   "outputs": [
    {
     "data": {
      "image/png": "[encoded data removed]",
      "text/plain": [
       "<Figure size 640x480 with 1 Axes>"
      ]
     },
     "metadata": {},
     "output_type": "display_data"
    }
   ],
   "source": [
    "sns.boxplot(data=data_clean, x='is_churned', y='average_watch_hours')\n",
    "plt.xticks([0, 1], ['Retained', 'Churned'])\n",
    "plt.title('Average Watch Hours by Churn Status')\n",
    "plt.ylabel('Average Watch Hours')\n",
    "plt.xlabel('User Status')\n",
    "plt.show()"
   ]
  },
  {
   "cell_type": "code",
   "execution_count": 27,
   "metadata": {},
   "outputs": [
    {
     "data": {
      "image/png": "[encoded data removed]",
      "text/plain": [
       "<Figure size 640x480 with 1 Axes>"
      ]
     },
     "metadata": {},
     "output_type": "display_data"
    }
   ],
   "source": [
    "sns.histplot(data=data_clean, x='average_watch_hours', hue='is_churned', kde=True, element='step')\n",
    "plt.xticks()\n",
    "plt.title('Watch Hours Distribution by Churn Status')\n",
    "plt.xlabel('Average Watch Hours')\n",
    "plt.legend(labels=['Retained', 'Churned'])\n",
    "plt.show()"
   ]
  },
  {
   "cell_type": "code",
   "execution_count": 28,
   "metadata": {},
   "outputs": [
    {
     "data": {
      "image/png": "[encoded data removed]",
      "text/plain": [
       "<Figure size 640x480 with 1 Axes>"
      ]
     },
     "metadata": {},
     "output_type": "display_data"
    }
   ],
   "source": [
    "sns.countplot(data=data_clean, x='is_churned')\n",
    "plt.xticks([0, 1], ['Active', 'Churned'])\n",
    "plt.title('User Churn Count')\n",
    "plt.ylabel('Count')\n",
    "plt.xlabel('User Status')\n",
    "plt.show()"
   ]
  },
  {
   "cell_type": "markdown",
   "metadata": {},
   "source": [
    "## Predictive Modelling"
   ]
  },
  {
   "cell_type": "markdown",
   "metadata": {},
   "source": [
    "Logistic Regression model to predict is_churned:"
   ]
  },
  {
   "cell_type": "code",
   "execution_count": 29,
   "metadata": {},
   "outputs": [],
   "source": [
    "# Data prep\n",
    "features = ['average_watch_hours', 'mobile_app_usage_pct', 'complaints_raised', 'monthly_fee', 'age']\n",
    "X = data_clean[features]\n",
    "y = data_clean['is_churned']\n"
   ]
  },
  {
   "cell_type": "code",
   "execution_count": 30,
   "metadata": {},
   "outputs": [],
   "source": [
    "# Data cleaning for the modelling\n",
    "X = data_clean[features].apply(pd.to_numeric, errors='coerce')\n",
    "\n",
    "# Dropping rows with NaNs in either X or y\n",
    "mask = X.notnull().all(axis=1) & y.notnull()\n",
    "X = X[mask]\n",
    "y = y[mask]"
   ]
  },
  {
   "cell_type": "code",
   "execution_count": 31,
   "metadata": {},
   "outputs": [],
   "source": [
    "# Train-test split data into 80% train and 20% test\n",
    "X_train, X_test, y_train, y_test = train_test_split(X, y, test_size=0.2, random_state=42)\n",
    "scaler = StandardScaler()\n",
    "X_train_scaled = scaler.fit_transform(X_train)\n",
    "X_test_scaled = scaler.transform(X_test)\n",
    "\n",
    "log_model = LogisticRegression(random_state=42) # Model creation\n",
    "log_model.fit(X_train_scaled, y_train) # Model training\n",
    "\n",
    "y_pred = log_model.predict(X_test_scaled)\n",
    "y_pred_proba = log_model.predict_proba(X_test_scaled)[:, 1] # Making predictions"
   ]
  },
  {
   "cell_type": "code",
   "execution_count": 32,
   "metadata": {},
   "outputs": [
    {
     "name": "stdout",
     "output_type": "stream",
     "text": [
      "Model Accuracy: 0.7323420074349443\n",
      "Confusion Matrix:\n",
      " [[197   0]\n",
      " [ 72   0]]\n",
      "\n",
      "Classification Report:\n",
      "               precision    recall  f1-score   support\n",
      "\n",
      "         0.0       0.73      1.00      0.85       197\n",
      "         1.0       0.00      0.00      0.00        72\n",
      "\n",
      "    accuracy                           0.73       269\n",
      "   macro avg       0.37      0.50      0.42       269\n",
      "weighted avg       0.54      0.73      0.62       269\n",
      "\n"
     ]
    },
    {
     "name": "stderr",
     "output_type": "stream",
     "text": [
      "/Users/james/anaconda3/lib/python3.10/site-packages/sklearn/metrics/_classification.py:1344: UndefinedMetricWarning: Precision and F-score are ill-defined and being set to 0.0 in labels with no predicted samples. Use `zero_division` parameter to control this behavior.\n",
      "  _warn_prf(average, modifier, msg_start, len(result))\n",
      "/Users/james/anaconda3/lib/python3.10/site-packages/sklearn/metrics/_classification.py:1344: UndefinedMetricWarning: Precision and F-score are ill-defined and being set to 0.0 in labels with no predicted samples. Use `zero_division` parameter to control this behavior.\n",
      "  _warn_prf(average, modifier, msg_start, len(result))\n",
      "/Users/james/anaconda3/lib/python3.10/site-packages/sklearn/metrics/_classification.py:1344: UndefinedMetricWarning: Precision and F-score are ill-defined and being set to 0.0 in labels with no predicted samples. Use `zero_division` parameter to control this behavior.\n",
      "  _warn_prf(average, modifier, msg_start, len(result))\n"
     ]
    }
   ],
   "source": [
    "# Model evaluation\n",
    "from sklearn.metrics import accuracy_score, confusion_matrix, classification_report\n",
    "print(\"Model Accuracy:\", accuracy_score(y_test, y_pred))\n",
    "print(\"Confusion Matrix:\\n\", confusion_matrix(y_test, y_pred))\n",
    "print(\"\\nClassification Report:\\n\", classification_report(y_test, y_pred)) "
   ]
  },
  {
   "cell_type": "code",
   "execution_count": 33,
   "metadata": {},
   "outputs": [
    {
     "name": "stdout",
     "output_type": "stream",
     "text": [
      "Feature Importances:\n",
      " age                     0.039117\n",
      "mobile_app_usage_pct   -0.006595\n",
      "complaints_raised      -0.009264\n",
      "monthly_fee            -0.044781\n",
      "average_watch_hours    -0.053853\n",
      "dtype: float64\n"
     ]
    }
   ],
   "source": [
    "coeffs = pd.Series(log_model.coef_[0], index=features) # The coefficients\n",
    "print(\"Feature Importances:\\n\", coeffs.sort_values(ascending=False))"
   ]
  },
  {
   "cell_type": "markdown",
   "metadata": {},
   "source": [
    "Test model here with realistic cases"
   ]
  },
  {
   "cell_type": "markdown",
   "metadata": {},
   "source": [
    "Visuals:"
   ]
  },
  {
   "cell_type": "code",
   "execution_count": 34,
   "metadata": {},
   "outputs": [
    {
     "data": {
      "image/png": "[encoded data removed]",
      "text/plain": [
       "<Figure size 1500x1000 with 5 Axes>"
      ]
     },
     "metadata": {},
     "output_type": "display_data"
    }
   ],
   "source": [
    "from sklearn.metrics import roc_curve, auc\n",
    "fpr, tpr, thresholds = roc_curve(y_test, y_pred_proba) # For the ROC curve below\n",
    "\n",
    "# Calculate the Area Under the Curve (AUC)\n",
    "roc_auc = auc(fpr, tpr)\n",
    "\n",
    "fig, axes = plt.subplots(2, 2, figsize=(15, 10))\n",
    "\n",
    "# Confusion Matrix\n",
    "cm = confusion_matrix(y_test, y_pred)\n",
    "sns.heatmap(cm, annot=True, fmt='d', cmap='Reds', ax=axes[0,0])\n",
    "axes[0,0].set_title('Confusion Matrix')\n",
    "axes[0,0].set_xlabel('Predicted')\n",
    "axes[0,0].set_ylabel('Actual')\n",
    "\n",
    "# Feature Importance\n",
    "feature_names = ['Average Watch Hours', 'Mobile App Usage Pct', 'Complaints Raised', 'Monthly Fee', 'Age']\n",
    "coefficients = log_model.coef_[0]\n",
    "axes[0,1].barh(feature_names, coefficients)\n",
    "axes[0,1].set_title('Feature Importance (Coefficients)')\n",
    "axes[0,1].set_xlabel('Coefficient Value')\n",
    "\n",
    "# Probability Distribution\n",
    "axes[1,0].hist(y_pred_proba[y_test==0], alpha=0.7, label='Retained', bins=20)\n",
    "axes[1,0].hist(y_pred_proba[y_test==1], alpha=0.7, label='Churned', bins=20)\n",
    "axes[1,0].set_title('Probability Distribution')\n",
    "axes[1,0].set_xlabel('Predicted Probability')\n",
    "axes[1,0].set_ylabel('Frequency')\n",
    "axes[1,0].legend()\n",
    "\n",
    "# ROC curve\n",
    "axes[1,1].plot(fpr,tpr,label=f'ROC Curve (AUC = {roc_auc:.2f})')\n",
    "axes[1,1].plot([0, 1], [0, 1], color='red', lw=2, linestyle='--')\n",
    "axes[1,1].set_title('Receiver Operating Characteristic (ROC) Curve')\n",
    "axes[1,1].set_xlabel('False Positive Rate')\n",
    "axes[1,1].set_ylabel('True Positive Rate')\n",
    "axes[1,1].set_xlim([0,1])\n",
    "axes[1,1].set_ylim([0,1.05])\n",
    "axes[1,1].grid(True)\n",
    "axes[1,1].legend()\n",
    "\n",
    "plt.tight_layout()\n",
    "plt.show()"
   ]
  },
  {
   "cell_type": "markdown",
   "metadata": {},
   "source": [
    "## Tuning Logistic Regression Hyperparameters"
   ]
  },
  {
   "cell_type": "code",
   "execution_count": 35,
   "metadata": {},
   "outputs": [],
   "source": [
    "from sklearn.model_selection import GridSearchCV\n",
    "from sklearn.pipeline import Pipeline"
   ]
  },
  {
   "cell_type": "code",
   "execution_count": 41,
   "metadata": {},
   "outputs": [],
   "source": [
    "X_train, X_test, y_train, y_test = train_test_split(\n",
    "    X, y, test_size=0.2, random_state=42, stratify=y)"
   ]
  },
  {
   "cell_type": "code",
   "execution_count": 43,
   "metadata": {},
   "outputs": [],
   "source": [
    "pipe = Pipeline([\n",
    "    ('scaler', StandardScaler()), \n",
    "    ('logreg', LogisticRegression(max_iter=5000, class_weight='balanced'))\n",
    "])"
   ]
  },
  {
   "cell_type": "code",
   "execution_count": 44,
   "metadata": {},
   "outputs": [],
   "source": [
    "param_grid = {\n",
    "    'logreg__C': np.logspace(-4, 4, 20),       # inverse regularization strength\n",
    "    'logreg__penalty': ['l1', 'l2'],           # Lasso vs Ridge\n",
    "    'logreg__solver': ['liblinear', 'saga']    # solvers that support l1\n",
    "}"
   ]
  },
  {
   "cell_type": "code",
   "execution_count": null,
   "metadata": {},
   "outputs": [
    {
     "data": {
      "text/html": [
       "<style>#sk-container-id-3 {color: black;background-color: white;}#sk-container-id-3 pre{padding: 0;}#sk-container-id-3 div.sk-toggleable {background-color: white;}#sk-container-id-3 label.sk-toggleable__label {cursor: pointer;display: block;width: 100%;margin-bottom: 0;padding: 0.3em;box-sizing: border-box;text-align: center;}#sk-container-id-3 label.sk-toggleable__label-arrow:before {content: \"▸\";float: left;margin-right: 0.25em;color: #696969;}#sk-container-id-3 label.sk-toggleable__label-arrow:hover:before {color: black;}#sk-container-id-3 div.sk-estimator:hover label.sk-toggleable__label-arrow:before {color: black;}#sk-container-id-3 div.sk-toggleable__content {max-height: 0;max-width: 0;overflow: hidden;text-align: left;background-color: #f0f8ff;}#sk-container-id-3 div.sk-toggleable__content pre {margin: 0.2em;color: black;border-radius: 0.25em;background-color: #f0f8ff;}#sk-container-id-3 input.sk-toggleable__control:checked~div.sk-toggleable__content {max-height: 200px;max-width: 100%;overflow: auto;}#sk-container-id-3 input.sk-toggleable__control:checked~label.sk-toggleable__label-arrow:before {content: \"▾\";}#sk-container-id-3 div.sk-estimator input.sk-toggleable__control:checked~label.sk-toggleable__label {background-color: #d4ebff;}#sk-container-id-3 div.sk-label input.sk-toggleable__control:checked~label.sk-toggleable__label {background-color: #d4ebff;}#sk-container-id-3 input.sk-hidden--visually {border: 0;clip: rect(1px 1px 1px 1px);clip: rect(1px, 1px, 1px, 1px);height: 1px;margin: -1px;overflow: hidden;padding: 0;position: absolute;width: 1px;}#sk-container-id-3 div.sk-estimator {font-family: monospace;background-color: #f0f8ff;border: 1px dotted black;border-radius: 0.25em;box-sizing: border-box;margin-bottom: 0.5em;}#sk-container-id-3 div.sk-estimator:hover {background-color: #d4ebff;}#sk-container-id-3 div.sk-parallel-item::after {content: \"\";width: 100%;border-bottom: 1px solid gray;flex-grow: 1;}#sk-container-id-3 div.sk-label:hover label.sk-toggleable__label {background-color: #d4ebff;}#sk-container-id-3 div.sk-serial::before {content: \"\";position: absolute;border-left: 1px solid gray;box-sizing: border-box;top: 0;bottom: 0;left: 50%;z-index: 0;}#sk-container-id-3 div.sk-serial {display: flex;flex-direction: column;align-items: center;background-color: white;padding-right: 0.2em;padding-left: 0.2em;position: relative;}#sk-container-id-3 div.sk-item {position: relative;z-index: 1;}#sk-container-id-3 div.sk-parallel {display: flex;align-items: stretch;justify-content: center;background-color: white;position: relative;}#sk-container-id-3 div.sk-item::before, #sk-container-id-3 div.sk-parallel-item::before {content: \"\";position: absolute;border-left: 1px solid gray;box-sizing: border-box;top: 0;bottom: 0;left: 50%;z-index: -1;}#sk-container-id-3 div.sk-parallel-item {display: flex;flex-direction: column;z-index: 1;position: relative;background-color: white;}#sk-container-id-3 div.sk-parallel-item:first-child::after {align-self: flex-end;width: 50%;}#sk-container-id-3 div.sk-parallel-item:last-child::after {align-self: flex-start;width: 50%;}#sk-container-id-3 div.sk-parallel-item:only-child::after {width: 0;}#sk-container-id-3 div.sk-dashed-wrapped {border: 1px dashed gray;margin: 0 0.4em 0.5em 0.4em;box-sizing: border-box;padding-bottom: 0.4em;background-color: white;}#sk-container-id-3 div.sk-label label {font-family: monospace;font-weight: bold;display: inline-block;line-height: 1.2em;}#sk-container-id-3 div.sk-label-container {text-align: center;}#sk-container-id-3 div.sk-container {/* jupyter's `normalize.less` sets `[hidden] { display: none; }` but bootstrap.min.css set `[hidden] { display: none !important; }` so we also need the `!important` here to be able to override the default hidden behavior on the sphinx rendered scikit-learn.org. See: https://github.com/scikit-learn/scikit-learn/issues/21755 */display: inline-block !important;position: relative;}#sk-container-id-3 div.sk-text-repr-fallback {display: none;}</style><div id=\"sk-container-id-3\" class=\"sk-top-container\"><div class=\"sk-text-repr-fallback\"><pre>GridSearchCV(cv=5,\n",
       "             estimator=Pipeline(steps=[(&#x27;scaler&#x27;, StandardScaler()),\n",
       "                                       (&#x27;logreg&#x27;,\n",
       "                                        LogisticRegression(class_weight=&#x27;balanced&#x27;,\n",
       "                                                           max_iter=5000))]),\n",
       "             n_jobs=-1,\n",
       "             param_grid={&#x27;logreg__C&#x27;: array([1.00000000e-04, 2.63665090e-04, 6.95192796e-04, 1.83298071e-03,\n",
       "       4.83293024e-03, 1.27427499e-02, 3.35981829e-02, 8.85866790e-02,\n",
       "       2.33572147e-01, 6.15848211e-01, 1.62377674e+00, 4.28133240e+00,\n",
       "       1.12883789e+01, 2.97635144e+01, 7.84759970e+01, 2.06913808e+02,\n",
       "       5.45559478e+02, 1.43844989e+03, 3.79269019e+03, 1.00000000e+04]),\n",
       "                         &#x27;logreg__penalty&#x27;: [&#x27;l1&#x27;, &#x27;l2&#x27;],\n",
       "                         &#x27;logreg__solver&#x27;: [&#x27;liblinear&#x27;, &#x27;saga&#x27;]},\n",
       "             scoring=&#x27;roc_auc&#x27;)</pre><b>In a Jupyter environment, please rerun this cell to show the HTML representation or trust the notebook. <br />On GitHub, the HTML representation is unable to render, please try loading this page with nbviewer.org.</b></div><div class=\"sk-container\" hidden><div class=\"sk-item sk-dashed-wrapped\"><div class=\"sk-label-container\"><div class=\"sk-label sk-toggleable\"><input class=\"sk-toggleable__control sk-hidden--visually\" id=\"sk-estimator-id-9\" type=\"checkbox\" ><label for=\"sk-estimator-id-9\" class=\"sk-toggleable__label sk-toggleable__label-arrow\">GridSearchCV</label><div class=\"sk-toggleable__content\"><pre>GridSearchCV(cv=5,\n",
       "             estimator=Pipeline(steps=[(&#x27;scaler&#x27;, StandardScaler()),\n",
       "                                       (&#x27;logreg&#x27;,\n",
       "                                        LogisticRegression(class_weight=&#x27;balanced&#x27;,\n",
       "                                                           max_iter=5000))]),\n",
       "             n_jobs=-1,\n",
       "             param_grid={&#x27;logreg__C&#x27;: array([1.00000000e-04, 2.63665090e-04, 6.95192796e-04, 1.83298071e-03,\n",
       "       4.83293024e-03, 1.27427499e-02, 3.35981829e-02, 8.85866790e-02,\n",
       "       2.33572147e-01, 6.15848211e-01, 1.62377674e+00, 4.28133240e+00,\n",
       "       1.12883789e+01, 2.97635144e+01, 7.84759970e+01, 2.06913808e+02,\n",
       "       5.45559478e+02, 1.43844989e+03, 3.79269019e+03, 1.00000000e+04]),\n",
       "                         &#x27;logreg__penalty&#x27;: [&#x27;l1&#x27;, &#x27;l2&#x27;],\n",
       "                         &#x27;logreg__solver&#x27;: [&#x27;liblinear&#x27;, &#x27;saga&#x27;]},\n",
       "             scoring=&#x27;roc_auc&#x27;)</pre></div></div></div><div class=\"sk-parallel\"><div class=\"sk-parallel-item\"><div class=\"sk-item\"><div class=\"sk-label-container\"><div class=\"sk-label sk-toggleable\"><input class=\"sk-toggleable__control sk-hidden--visually\" id=\"sk-estimator-id-10\" type=\"checkbox\" ><label for=\"sk-estimator-id-10\" class=\"sk-toggleable__label sk-toggleable__label-arrow\">estimator: Pipeline</label><div class=\"sk-toggleable__content\"><pre>Pipeline(steps=[(&#x27;scaler&#x27;, StandardScaler()),\n",
       "                (&#x27;logreg&#x27;,\n",
       "                 LogisticRegression(class_weight=&#x27;balanced&#x27;, max_iter=5000))])</pre></div></div></div><div class=\"sk-serial\"><div class=\"sk-item\"><div class=\"sk-serial\"><div class=\"sk-item\"><div class=\"sk-estimator sk-toggleable\"><input class=\"sk-toggleable__control sk-hidden--visually\" id=\"sk-estimator-id-11\" type=\"checkbox\" ><label for=\"sk-estimator-id-11\" class=\"sk-toggleable__label sk-toggleable__label-arrow\">StandardScaler</label><div class=\"sk-toggleable__content\"><pre>StandardScaler()</pre></div></div></div><div class=\"sk-item\"><div class=\"sk-estimator sk-toggleable\"><input class=\"sk-toggleable__control sk-hidden--visually\" id=\"sk-estimator-id-12\" type=\"checkbox\" ><label for=\"sk-estimator-id-12\" class=\"sk-toggleable__label sk-toggleable__label-arrow\">LogisticRegression</label><div class=\"sk-toggleable__content\"><pre>LogisticRegression(class_weight=&#x27;balanced&#x27;, max_iter=5000)</pre></div></div></div></div></div></div></div></div></div></div></div></div>"
      ],
      "text/plain": [
       "GridSearchCV(cv=5,\n",
       "             estimator=Pipeline(steps=[('scaler', StandardScaler()),\n",
       "                                       ('logreg',\n",
       "                                        LogisticRegression(class_weight='balanced',\n",
       "                                                           max_iter=5000))]),\n",
       "             n_jobs=-1,\n",
       "             param_grid={'logreg__C': array([1.00000000e-04, 2.63665090e-04, 6.95192796e-04, 1.83298071e-03,\n",
       "       4.83293024e-03, 1.27427499e-02, 3.35981829e-02, 8.85866790e-02,\n",
       "       2.33572147e-01, 6.15848211e-01, 1.62377674e+00, 4.28133240e+00,\n",
       "       1.12883789e+01, 2.97635144e+01, 7.84759970e+01, 2.06913808e+02,\n",
       "       5.45559478e+02, 1.43844989e+03, 3.79269019e+03, 1.00000000e+04]),\n",
       "                         'logreg__penalty': ['l1', 'l2'],\n",
       "                         'logreg__solver': ['liblinear', 'saga']},\n",
       "             scoring='roc_auc')"
      ]
     },
     "execution_count": 46,
     "metadata": {},
     "output_type": "execute_result"
    }
   ],
   "source": [
    "grid = GridSearchCV(\n",
    "    pipe, \n",
    "    param_grid, \n",
    "    cv=5,  # 5 fold cross validation\n",
    "    scoring='roc_auc',   # Better for churn (class imbalance often present)\n",
    "    n_jobs=-1\n",
    ")\n",
    "\n",
    "grid.fit(X_train, y_train)"
   ]
  },
  {
   "cell_type": "code",
   "execution_count": 47,
   "metadata": {},
   "outputs": [
    {
     "name": "stdout",
     "output_type": "stream",
     "text": [
      "Best Parameters: {'logreg__C': 0.0001, 'logreg__penalty': 'l1', 'logreg__solver': 'liblinear'}\n",
      "Best CV ROC-AUC: 0.5\n",
      "Test ROC-AUC: 0.5\n"
     ]
    }
   ],
   "source": [
    "print(\"Best Parameters:\", grid.best_params_)\n",
    "print(\"Best CV ROC-AUC:\", grid.best_score_)\n",
    "print(\"Test ROC-AUC:\", grid.score(X_test, y_test))"
   ]
  },
  {
   "cell_type": "code",
   "execution_count": null,
   "metadata": {},
   "outputs": [],
   "source": []
  }
 ],
 "metadata": {
  "kernelspec": {
   "display_name": "base",
   "language": "python",
   "name": "python3"
  },
  "language_info": {
   "codemirror_mode": {
    "name": "ipython",
    "version": 3
   },
   "file_extension": ".py",
   "mimetype": "text/x-python",
   "name": "python",
   "nbconvert_exporter": "python",
   "pygments_lexer": "ipython3",
   "version": "3.10.9"
  }
 },
 "nbformat": 4,
 "nbformat_minor": 2
}
